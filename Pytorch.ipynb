{
  "nbformat": 4,
  "nbformat_minor": 0,
  "metadata": {
    "colab": {
      "name": "Pytorch.ipynb",
      "provenance": [],
      "authorship_tag": "ABX9TyP5tbCUa3q9BMAm+eKzu57M",
      "include_colab_link": true
    },
    "kernelspec": {
      "name": "python3",
      "display_name": "Python 3"
    }
  },
  "cells": [
    {
      "cell_type": "markdown",
      "metadata": {
        "id": "view-in-github",
        "colab_type": "text"
      },
      "source": [
        "<a href=\"https://colab.research.google.com/github/massirism/Codes/blob/main/Pytorch.ipynb\" target=\"_parent\"><img src=\"https://colab.research.google.com/assets/colab-badge.svg\" alt=\"Open In Colab\"/></a>"
      ]
    },
    {
      "cell_type": "code",
      "metadata": {
        "id": "945BrmDBl2Z0",
        "outputId": "5f5afda6-3f2b-46ba-fde1-86385ff54128",
        "colab": {
          "base_uri": "https://localhost:8080/",
          "height": 35
        }
      },
      "source": [
        "import torch\n",
        "torch.__version__"
      ],
      "execution_count": null,
      "outputs": [
        {
          "output_type": "execute_result",
          "data": {
            "application/vnd.google.colaboratory.intrinsic+json": {
              "type": "string"
            },
            "text/plain": [
              "'1.6.0+cu101'"
            ]
          },
          "metadata": {
            "tags": []
          },
          "execution_count": 20
        }
      ]
    },
    {
      "cell_type": "code",
      "metadata": {
        "id": "DkgVcrndmemB",
        "outputId": "671e9b82-77d9-474e-8011-b145aae64356",
        "colab": {
          "base_uri": "https://localhost:8080/",
          "height": 52
        }
      },
      "source": [
        "#Creando un tensor\n",
        "x=torch.tensor([5.5, 3]) #Entre corchetes y separados por una coma se ingresan los datos de las dimensiones\n",
        "\n",
        "y=torch.tensor([2,4])\n",
        "\n",
        "#La suma es termino a termino es decir 5.5+2 y 3+4\n",
        "x+y\n",
        "\n",
        "#Crea un tensor de unos, las primeras dos variables son las dimensiones del tensor\n",
        "x=torch.ones(2,2, requires_grad=True) #Si requires__grad es TRUE significa que si se modifica x las variables que realicen operaciones con el cambiarán también\n",
        "print (x)\n"
      ],
      "execution_count": null,
      "outputs": [
        {
          "output_type": "stream",
          "text": [
            "tensor([[1., 1.],\n",
            "        [1., 1.]], requires_grad=True)\n"
          ],
          "name": "stdout"
        }
      ]
    },
    {
      "cell_type": "code",
      "metadata": {
        "id": "hMixBTIupOP_",
        "outputId": "7186d778-402a-41d0-b1c6-56a14a462091",
        "colab": {
          "base_uri": "https://localhost:8080/",
          "height": 141
        }
      },
      "source": [
        "#Crear red neuronal con Pytorch, es necesario utilizar la librería torch.nn\n",
        "\n",
        "#nn.Module contiene capas y forward(input) va a darte la salida \n",
        "#Peso =Peso -(lr)*(gradiente), lr se tiene que ajustar\n",
        "\n",
        "import torch\n",
        "import torch.nn as nn #importo nuronal network(nn) y guardo como nn\n",
        "import torch.nn.functional as F #Lo mismo pero con funcional \n",
        "\n",
        "\n",
        "class Net(nn.Module): #Defino la clase NET heredera de nn\n",
        "\n",
        "    #Inicializando la clase\n",
        "    def __init__(self): \n",
        "        super(Net, self).__init__()\n",
        "        #Red convolucional\n",
        "        # Datos de entrada: 1 input image channel, 6 output channels, 3x3 square convolution\n",
        "        # kernel\n",
        "        self.conv1 = nn.Conv2d(1, 6, 3) \n",
        "        self.conv2 = nn.Conv2d(6, 16, 3)\n",
        "        # an affine operation: y = Wx + b\n",
        "        self.fc1 = nn.Linear(16 * 6 * 6, 120)  # 6*6 from image dimension\n",
        "        self.fc2 = nn.Linear(120, 84)\n",
        "        self.fc3 = nn.Linear(84, 10)\n",
        "\n",
        "    def forward(self, x): #X entrada\n",
        "        # Max pooling over a (2, 2) window\n",
        "        x = F.max_pool2d(F.relu(self.conv1(x)), (2, 2)) #Activacion Relu\n",
        "        # If the size is a square you can only specify a single number\n",
        "        x = F.max_pool2d(F.relu(self.conv2(x)), 2)\n",
        "        x = x.view(-1, self.num_flat_features(x))\n",
        "        x = F.relu(self.fc1(x))\n",
        "        x = F.relu(self.fc2(x))\n",
        "        x = self.fc3(x)\n",
        "        return x\n",
        "\n",
        "#La siguiente función puede ser remplazada por X.flatten(start_dim=1).size()\n",
        "    def num_flat_features(self, x): #Convierte el tipo de dato (x) pasando la matriz 3*3*3 a un vector de 27, osea aplanar...\n",
        " \n",
        "        size = x.size()[1:]  # all dimensions except the batch dimension\n",
        "        num_features = 1\n",
        "        for s in size:\n",
        "            num_features *= s\n",
        "        return num_features\n",
        "\n",
        "\n",
        "net = Net()\n",
        "print(net)"
      ],
      "execution_count": null,
      "outputs": [
        {
          "output_type": "stream",
          "text": [
            "Net(\n",
            "  (conv1): Conv2d(1, 6, kernel_size=(3, 3), stride=(1, 1))\n",
            "  (conv2): Conv2d(6, 16, kernel_size=(3, 3), stride=(1, 1))\n",
            "  (fc1): Linear(in_features=576, out_features=120, bias=True)\n",
            "  (fc2): Linear(in_features=120, out_features=84, bias=True)\n",
            "  (fc3): Linear(in_features=84, out_features=10, bias=True)\n",
            ")\n"
          ],
          "name": "stdout"
        }
      ]
    },
    {
      "cell_type": "code",
      "metadata": {
        "id": "Fp3sTxxRSg5x",
        "outputId": "dbd25aa8-36da-4f16-f1df-5f3aa631c4fa",
        "colab": {
          "base_uri": "https://localhost:8080/",
          "height": 141
        }
      },
      "source": [
        "net.parameters"
      ],
      "execution_count": null,
      "outputs": [
        {
          "output_type": "execute_result",
          "data": {
            "text/plain": [
              "<bound method Module.parameters of Net(\n",
              "  (conv1): Conv2d(1, 6, kernel_size=(3, 3), stride=(1, 1))\n",
              "  (conv2): Conv2d(6, 16, kernel_size=(3, 3), stride=(1, 1))\n",
              "  (fc1): Linear(in_features=576, out_features=120, bias=True)\n",
              "  (fc2): Linear(in_features=120, out_features=84, bias=True)\n",
              "  (fc3): Linear(in_features=84, out_features=10, bias=True)\n",
              ")>"
            ]
          },
          "metadata": {
            "tags": []
          },
          "execution_count": 23
        }
      ]
    },
    {
      "cell_type": "code",
      "metadata": {
        "id": "ltzVEYZhTRSz",
        "outputId": "b88bfd41-2761-4410-e05b-498d3651fa58",
        "colab": {
          "base_uri": "https://localhost:8080/",
          "height": 52
        }
      },
      "source": [
        "entrada = torch.randn(1, 1, 32, 32) #Cantidad de objetos a ingresar, Un canal de información tamaño ancho y alto 32*32\n",
        "#Una matriz random que simula imagen de entrada\n",
        "salida = net(entrada)\n",
        "salida"
      ],
      "execution_count": null,
      "outputs": [
        {
          "output_type": "execute_result",
          "data": {
            "text/plain": [
              "tensor([[-0.0539,  0.0200, -0.0415, -0.0049,  0.0726,  0.0812,  0.0133,  0.0618,\n",
              "         -0.0029,  0.1075]], grad_fn=<AddmmBackward>)"
            ]
          },
          "metadata": {
            "tags": []
          },
          "execution_count": 24
        }
      ]
    },
    {
      "cell_type": "code",
      "metadata": {
        "id": "QEEir2acUHeA"
      },
      "source": [
        "net.zero_grad() #Resetea los gradientes\n",
        "salida.backward(torch.randn(1, 10)) #Le paso un vector de errores"
      ],
      "execution_count": null,
      "outputs": []
    },
    {
      "cell_type": "code",
      "metadata": {
        "id": "URisw0MUUv81",
        "outputId": "5206dbbb-1408-4b2d-fa96-cb8bcecffa5a",
        "colab": {
          "base_uri": "https://localhost:8080/",
          "height": 34
        }
      },
      "source": [
        "#FUNCION DE ERROR \n",
        "salida=net(entrada)\n",
        "target = torch.randn(10) #Etiqueta, es un vector de 10 clases\n",
        "target= target.view(1, -1) #View añadiendo el bacht size \n",
        "criterio = nn.MSELoss()\n",
        "\n",
        "loss = criterio(salida, target)\n",
        "print (loss)"
      ],
      "execution_count": null,
      "outputs": [
        {
          "output_type": "stream",
          "text": [
            "tensor(1.1762, grad_fn=<MseLossBackward>)\n"
          ],
          "name": "stdout"
        }
      ]
    },
    {
      "cell_type": "code",
      "metadata": {
        "id": "S_sWFZ4OXntF"
      },
      "source": [
        "#Para propagar el error, osea el backward(), hay que resetear gradientes\n",
        "net.zero_grad()\n",
        "\n",
        "loss.backward()\n"
      ],
      "execution_count": null,
      "outputs": []
    },
    {
      "cell_type": "code",
      "metadata": {
        "id": "Y7Wwed6gYgJH"
      },
      "source": [
        "#Actualización de los pesos, descensos del gradiente\n",
        "\n",
        "#PESO=PESO -LR*GRADIENTE\n",
        "\n",
        "import torch.optim as optim\n",
        "\n",
        "#Creas un optimizador\n",
        "optimizador = optim.SGD(net.parameters(), lr=0.01) #sgd?\n",
        "\n",
        "#En nuestro ciclo de entrenamiento\n",
        "\n",
        "optimizador.zero_grad()\n",
        "salida=net(entrada) #red=net \n",
        "loss=criterion(salida, target)\n",
        "loss.backward()\n",
        "optimizador.step()"
      ],
      "execution_count": null,
      "outputs": []
    },
    {
      "cell_type": "code",
      "metadata": {
        "id": "bhjA6eGoa8OK"
      },
      "source": [
        ""
      ],
      "execution_count": null,
      "outputs": []
    }
  ]
}