{
  "nbformat": 4,
  "nbformat_minor": 0,
  "metadata": {
    "colab": {
      "name": "Looking a word in twitter.ipynb",
      "provenance": [],
      "authorship_tag": "ABX9TyPtdilPVfEOikilptMMbrtc",
      "include_colab_link": true
    },
    "kernelspec": {
      "name": "python3",
      "display_name": "Python 3"
    }
  },
  "cells": [
    {
      "cell_type": "markdown",
      "metadata": {
        "id": "view-in-github",
        "colab_type": "text"
      },
      "source": [
        "<a href=\"https://colab.research.google.com/github/massirism/Codes/blob/main/Looking_a_word_in_twitter.ipynb\" target=\"_parent\"><img src=\"https://colab.research.google.com/assets/colab-badge.svg\" alt=\"Open In Colab\"/></a>"
      ]
    },
    {
      "cell_type": "code",
      "metadata": {
        "id": "WsGopYe6OKX3",
        "outputId": "aa5da31c-9737-4c6b-9dcd-43dcf23a4ca0",
        "colab": {
          "base_uri": "https://localhost:8080/"
        }
      },
      "source": [
        "!pip install tweepy"
      ],
      "execution_count": null,
      "outputs": [
        {
          "output_type": "stream",
          "text": [
            "Requirement already satisfied: tweepy in /usr/local/lib/python3.6/dist-packages (3.6.0)\n",
            "Requirement already satisfied: requests-oauthlib>=0.7.0 in /usr/local/lib/python3.6/dist-packages (from tweepy) (1.3.0)\n",
            "Requirement already satisfied: PySocks>=1.5.7 in /usr/local/lib/python3.6/dist-packages (from tweepy) (1.7.1)\n",
            "Requirement already satisfied: requests>=2.11.1 in /usr/local/lib/python3.6/dist-packages (from tweepy) (2.23.0)\n",
            "Requirement already satisfied: six>=1.10.0 in /usr/local/lib/python3.6/dist-packages (from tweepy) (1.15.0)\n",
            "Requirement already satisfied: oauthlib>=3.0.0 in /usr/local/lib/python3.6/dist-packages (from requests-oauthlib>=0.7.0->tweepy) (3.1.0)\n",
            "Requirement already satisfied: urllib3!=1.25.0,!=1.25.1,<1.26,>=1.21.1 in /usr/local/lib/python3.6/dist-packages (from requests>=2.11.1->tweepy) (1.24.3)\n",
            "Requirement already satisfied: idna<3,>=2.5 in /usr/local/lib/python3.6/dist-packages (from requests>=2.11.1->tweepy) (2.10)\n",
            "Requirement already satisfied: chardet<4,>=3.0.2 in /usr/local/lib/python3.6/dist-packages (from requests>=2.11.1->tweepy) (3.0.4)\n",
            "Requirement already satisfied: certifi>=2017.4.17 in /usr/local/lib/python3.6/dist-packages (from requests>=2.11.1->tweepy) (2020.6.20)\n"
          ],
          "name": "stdout"
        }
      ]
    },
    {
      "cell_type": "code",
      "metadata": {
        "id": "Y81UM5GyOWux"
      },
      "source": [
        "#Acceso a mí cuenta de twitter\n",
        "import tweepy\n",
        "import pandas as pd\n",
        "import numpy as np\n",
        "import json\n",
        "\n",
        "\n",
        "consumer_key = \"BGVzT2E5D1RzuydEfSQm5as5g\"\n",
        "consumer_secret = \"8HBBk1ERMbobZDsxQiZiYMjw7iJIHSnI7qRZXDRQnI5O6hksH4\"\n",
        "access_token = \"335826487-MpRl1ltNqTutbmlHn3RXdqnbTxit48Z3SR9Dhnmg\"\n",
        "access_token_secret = \"wfucg7GVFyUo3WzrlapY1EoYk5wpvq3nEZXhdyMIgU9dU\"\n"
      ],
      "execution_count": null,
      "outputs": []
    },
    {
      "cell_type": "code",
      "metadata": {
        "id": "HguSJ0eqObZ5"
      },
      "source": [
        "#Creación del objeto API\n",
        "\n",
        "# Creating the authentication object\n",
        "auth = tweepy.OAuthHandler(consumer_key, consumer_secret)\n",
        "# Setting your access token and secret\n",
        "auth.set_access_token(access_token, access_token_secret)\n",
        "# Creating the API object while passing in auth information\n",
        "api = tweepy.API(auth) "
      ],
      "execution_count": null,
      "outputs": []
    },
    {
      "cell_type": "code",
      "metadata": {
        "id": "Ggna3fh3JWIs",
        "outputId": "07796873-a6ef-4eae-b7b1-950a0c4817a8",
        "colab": {
          "base_uri": "https://localhost:8080/"
        }
      },
      "source": [
        "# Los @ de los journals extraídos de scimago\n",
        "names = [\"nature\",\"ESHRE\",\"ISUOG\",\"greenjrnl\",\"BJOGTweets\",\"ContraceptionJL\",\"NeonatalAnd\"]\n",
        "\n",
        "for nn in names:\n",
        "\n",
        "  # Number of tweets to pull\n",
        "  tweetCount =13500 \n",
        "\n",
        "  # Calling the user_timeline function with our parameters\n",
        "  results = api.user_timeline(id=nn, count=tweetCount)\n",
        "\n",
        "  #Creo una lista que contendrá todos los tweets con la palabra filtro:\n",
        "  ListTweets=[]\n",
        "\n",
        "  #Lista resultante luego del filtrado\n",
        "  ListRes=[]\n",
        "\n",
        "  #Palabra a buscar\n",
        "  palabra=' preg'\n",
        "\n",
        "  # foreach through all tweets pulled\n",
        "  for tweet in results:\n",
        "    # printing the text stored inside the tweet object\n",
        "    #print (tweet.text)\n",
        "    ListTweets.append(tweet.text)\n",
        "\n",
        "  ListRes = [(indice, string) for (indice,string) in enumerate(ListTweets) if palabra in string]\n",
        "  #print(ListRes)\n",
        "  #any(palabra in string for string in ListTweets)\n",
        "\n",
        "  #Dataframe\n",
        "\n",
        "  columnas = ['NroTweet', 'Tweet']\n",
        "\n",
        "  df=pd.DataFrame(ListRes, columns=columnas)\n",
        "  df = df.to_json(orient=\"records\")\n",
        "\n",
        "  with open(nn+'df.json', 'w') as f:\n",
        "    f.write(df)\n",
        "    print (df)\n",
        "\n",
        "    \n"
      ],
      "execution_count": null,
      "outputs": [
        {
          "output_type": "stream",
          "text": [
            "[]\n",
            "[{\"NroTweet\":49,\"Tweet\":\"\\ud83d\\udce3ESHRE invites you to advance the current understanding of the specific impact of #COVID on #ART and pregnancies ac\\u2026 https:\\/\\/t.co\\/oczXDosAbA\"},{\"NroTweet\":51,\"Tweet\":\"A cohort study in non-IVF couples trying to get pregnant has found that sperm mitochondrial DNA copy number may be\\u2026 https:\\/\\/t.co\\/AW0jwGAc9y\"},{\"NroTweet\":59,\"Tweet\":\"\\ud83d\\udce3ESHRE invites you to advance the current understanding of the specific impact of #COVID on #ART and pregnancies ac\\u2026 https:\\/\\/t.co\\/0JGytWnu8w\"},{\"NroTweet\":62,\"Tweet\":\"A cohort study in non-IVF couples trying to get pregnant has found that sperm mitochondrial DNA copy number may be\\u2026 https:\\/\\/t.co\\/xPIrxSwjPU\"},{\"NroTweet\":65,\"Tweet\":\"A cohort study in non-IVF couples trying to get pregnant has found that sperm mitochondrial DNA copy number may be\\u2026 https:\\/\\/t.co\\/a64B1OqM6p\"},{\"NroTweet\":67,\"Tweet\":\"\\ud83d\\udce3ESHRE invites you to advance the current understanding of the specific impact of #COVID on #ART and pregnancies ac\\u2026 https:\\/\\/t.co\\/f9pXJOrEwB\"},{\"NroTweet\":77,\"Tweet\":\"A cohort study in non-IVF couples trying to get pregnant has found that sperm mitochondrial DNA copy number may be\\u2026 https:\\/\\/t.co\\/u61l91iRHO\"},{\"NroTweet\":79,\"Tweet\":\"\\ud83d\\udce3ESHRE invites you to advance the current understanding of the specific impact of #COVID on #ART and pregnancies ac\\u2026 https:\\/\\/t.co\\/hAaHCDzXDU\"},{\"NroTweet\":111,\"Tweet\":\"Help us advance our understanding of the specific impact of #COVID on #ART and pregnancies achieved from assisted r\\u2026 https:\\/\\/t.co\\/E70JdOKI7o\"},{\"NroTweet\":133,\"Tweet\":\"Get involved &amp; help us advance our understanding of the specific impact of #COVID on #ART pregnancies! \\n\\u270d\\ufe0fFill in t\\u2026 https:\\/\\/t.co\\/tpgTqZu6lW\"},{\"NroTweet\":158,\"Tweet\":\"Get involved &amp; help us advance our understanding of the specific impact of #COVID on #ART pregnancies! \\n\\u270d\\ufe0fFill in t\\u2026 https:\\/\\/t.co\\/XhBGHEkiCc\"},{\"NroTweet\":179,\"Tweet\":\"Help us advance our understanding of the specific impact of #COVID on #ART and pregnancies achieved from assisted r\\u2026 https:\\/\\/t.co\\/dlWguNnzaL\"},{\"NroTweet\":185,\"Tweet\":\"Help us advance our understanding of the specific impact of #COVID on #ART and pregnancies achieved from assisted r\\u2026 https:\\/\\/t.co\\/oS7VmqIoeb\"}]\n",
            "[{\"NroTweet\":39,\"Tweet\":\"The closing plenary of #ISUOG202 is a fascinating lecture on The impact of the microbiome on pregnancy: from miscar\\u2026 https:\\/\\/t.co\\/RFs1UBhI6J\"},{\"NroTweet\":53,\"Tweet\":\"Michal Zajicek presents on the natural history of non-ovarian highly vascularized pelvic findings in pregnant women\\u2026 https:\\/\\/t.co\\/0DO1vQ0Nnb\"},{\"NroTweet\":64,\"Tweet\":\"Yael Ganor Paz presenting on Cerebroplacental ratio use to predict adverse outcomes in pregnancies complicated by g\\u2026 https:\\/\\/t.co\\/TMRttRe0fZ\"},{\"NroTweet\":67,\"Tweet\":\"Presenting now in the session on Prediction and prevention of pregnancy complications: Maternal hemodynamics in scr\\u2026 https:\\/\\/t.co\\/iwb5l9wlaY\"},{\"NroTweet\":120,\"Tweet\":\"Karen Grewal delivering the talk now on \\u2019The microbiome and why it may be relevant in early pregnancy\\u2019 #ISUOG2020 S\\u2026 https:\\/\\/t.co\\/XP7w7hNTjc\"},{\"NroTweet\":176,\"Tweet\":\"Nicola Mitchell-Jones presents the talk \\u2018The optimal management of vomiting in pregnancy\\u2019 during the Masterclass: M\\u2026 https:\\/\\/t.co\\/35m6CDLOYH\"},{\"NroTweet\":179,\"Tweet\":\"Maya Al-Mema &amp; Emma Kirk chairing the Masterclass session on Managing early pregnancy complications with Dirk Timme\\u2026 https:\\/\\/t.co\\/SgKxHAnqde\"}]\n",
            "[{\"NroTweet\":117,\"Tweet\":\"This month's Connect the Dots begins with a discussion of maternal obesity and hypertensive disorders of pregnancy.\\u2026 https:\\/\\/t.co\\/0BJH8Kkwt9\"},{\"NroTweet\":122,\"Tweet\":\"Association of Living in a Food Desert With Pregnancy Morbidity. The odds of having a morbid condition in pregnancy\\u2026 https:\\/\\/t.co\\/SbEq8x1Pg6\"}]\n",
            "[{\"NroTweet\":4,\"Tweet\":\"Almost nine in ten maternity services experienced decline in 'emergency pregnancy appointments amid pandemic'  https:\\/\\/t.co\\/flPJOM09cT\"},{\"NroTweet\":22,\"Tweet\":\"The ectopic pregnancy rate after embryo transfer for lean women is higher than that for women of normal weight.\\u2026 https:\\/\\/t.co\\/GUrLIacFSC\"},{\"NroTweet\":23,\"Tweet\":\"Can #COVID19 in pregnancy cause pre\\u2010eclampsia? - a mini commentary https:\\/\\/t.co\\/V3btIKXq0a https:\\/\\/t.co\\/63gdWa0eC9\"},{\"NroTweet\":37,\"Tweet\":\"Low levels of vitamin D are associated with increased risk of urinary incontinence in pregnancy. https:\\/\\/t.co\\/dulpdxGCEV\"},{\"NroTweet\":47,\"Tweet\":\"Mini commentary: vesicular mole in a twin pregnancy https:\\/\\/t.co\\/EiQr4N2Nu0\"},{\"NroTweet\":53,\"Tweet\":\"Video abstract from our August issue: vaginal delivery in SARS-CoV-2-infected pregnant women in Northern Italy. Wat\\u2026 https:\\/\\/t.co\\/NVKmIMe8ud\"},{\"NroTweet\":68,\"Tweet\":\"This study shows that a pre\\u2010eclampsia\\u2010like syndrome could be present in some pregnancies with severe COVID\\u201019. https:\\/\\/t.co\\/Fj6UUim35q\"},{\"NroTweet\":79,\"Tweet\":\"Our July issue contains a fascinating BJOG Since 1902 piece on the history of dietary advice during pregnancy. Eati\\u2026 https:\\/\\/t.co\\/q8c6KILPDg\"},{\"NroTweet\":80,\"Tweet\":\"Inequality and inequity in pregnancy\\u2010related death persists globally, irrespective of resource availability. https:\\/\\/t.co\\/MDi2S8Lo3E\"},{\"NroTweet\":86,\"Tweet\":\"A new noninvasive test for pregnancies at risk for \\u03b2\\u2010thalassaemia https:\\/\\/t.co\\/BX71R01zzS\"},{\"NroTweet\":99,\"Tweet\":\"COVID\\u201019 in pregnancy - a mini commentary in BJOG https:\\/\\/t.co\\/Zexw7UGHKr\"},{\"NroTweet\":110,\"Tweet\":\"Free to view: The Editor's Pick of the July issue is a Commentary on safe delivery for pregnancies affected by COVI\\u2026 https:\\/\\/t.co\\/SvyQE0QdUP\"},{\"NroTweet\":111,\"Tweet\":\"July issue now published, including an article on delivery for pregnancies affected by COVID-19 and a systematic re\\u2026 https:\\/\\/t.co\\/549XCnUTYS\"},{\"NroTweet\":137,\"Tweet\":\"Hypertensive disorders of pregnancy are associated with worse maternal haemodynamic function when associated with s\\u2026 https:\\/\\/t.co\\/s8zlwecDyc\"},{\"NroTweet\":139,\"Tweet\":\"How should we treat pregnant women infected with SARS\\u2010CoV\\u20102? https:\\/\\/t.co\\/VihRA6v0xS\"},{\"NroTweet\":140,\"Tweet\":\"Chronic cholestatic liver disease and pregnancy \\u2013 not to be confused with intrahepatic cholestasis of pregnancy\\u2026 https:\\/\\/t.co\\/0gGBTt1D93\"},{\"NroTweet\":158,\"Tweet\":\"Fetal growth and fetoplacental circulation in pregnancies following bariatric surgery: a prospective study\\u2026 https:\\/\\/t.co\\/4CUJMOYXeH\"},{\"NroTweet\":189,\"Tweet\":\"Safe delivery for pregnancies affected by COVID\\u201019 https:\\/\\/t.co\\/GHRgwBFfmZ\"},{\"NroTweet\":192,\"Tweet\":\"Adverse pregnancy outcome and connective tissue disease: why is there a link? https:\\/\\/t.co\\/5Dv095LL6g\"}]\n",
            "[{\"NroTweet\":6,\"Tweet\":\"RT @ANSIRH: Research shows that women often use birth control for more than pregnancy prevention. See the findings from @GoleenSamari &amp; ANS\\u2026\"},{\"NroTweet\":27,\"Tweet\":\"RT @OPENreprohealth: Transgender men also use contraception, get pregnant, and have abortions. Scholars highlight the need for further rese\\u2026\"},{\"NroTweet\":40,\"Tweet\":\"Still seeking a multilevel urine pregnancy test: MLPT has been shown to work well as a tool for medical #abortion f\\u2026 https:\\/\\/t.co\\/uJWMJ4oFIU\"},{\"NroTweet\":57,\"Tweet\":\"Aligning periods of unintended pregnancy risk with contraceptive use assessment reduced estimates of no contracepti\\u2026 https:\\/\\/t.co\\/nwQq8RwuSz\"},{\"NroTweet\":89,\"Tweet\":\"RT @ANSIRH: \\\"The consequences of being turned away from receiving an abortion are far-reaching: physical risks from continued pregnancy and\\u2026\"},{\"NroTweet\":101,\"Tweet\":\"Patients with unplanned pregnancy who miscarried were twice as likely to initiate #contraception as those with plan\\u2026 https:\\/\\/t.co\\/mkXugNZZsl\"},{\"NroTweet\":102,\"Tweet\":\"Both #contraceptive use and unplanned pregnancy among women with #cysticfibrosis are common. Associations between h\\u2026 https:\\/\\/t.co\\/33yyfjPMC1\"},{\"NroTweet\":121,\"Tweet\":\"Periods of incarceration provide an opportunity to offer contraceptive services to women who want to avoid a pregna\\u2026 https:\\/\\/t.co\\/MlEiCtuqKn\"},{\"NroTweet\":124,\"Tweet\":\"PAPP-A and ADAM-12 showed promise as bases for a sensitive and specific serum test for identifying pregnancies with\\u2026 https:\\/\\/t.co\\/GMnFVywmXk\"},{\"NroTweet\":153,\"Tweet\":\"#Incarcerated pregnant people who need #abortion face many obstacles, despite legal affirmation that they have a ri\\u2026 https:\\/\\/t.co\\/fs61WUqA8y\"},{\"NroTweet\":158,\"Tweet\":\"Given range of preferences associated with #OneKeyQuestion\\u00ae (Would you like to become pregnant in the next year) re\\u2026 https:\\/\\/t.co\\/PUkMbUnJ2a\"},{\"NroTweet\":169,\"Tweet\":\"Unintended pregnancy during housing insecurity may result in #homelessness. This study found the housing-insecure d\\u2026 https:\\/\\/t.co\\/9gojeE543V\"},{\"NroTweet\":176,\"Tweet\":\"\\\"When I was in jail\\u2026I was more inclined to want to get pregnant, just because you\\u2019re so alone in there, you know?\\u2026A\\u2026 https:\\/\\/t.co\\/C7Ed3Hix14\"}]\n",
            "[{\"NroTweet\":3,\"Tweet\":\"The umbilical cord is a tube that connects you to your baby during pregnancy. It has three blood vessels: one vein\\u2026 https:\\/\\/t.co\\/vCGLtYagTB\"},{\"NroTweet\":6,\"Tweet\":\"The #placenta is an organ that develops in your uterus during pregnancy. This structure provides oxygen and nutrien\\u2026 https:\\/\\/t.co\\/hZcqnOezdc\"},{\"NroTweet\":45,\"Tweet\":\"CPH4 is  a #molecule that the pregnant woman is making it after six weeks of #pregnancy in tiny quantities. The pow\\u2026 https:\\/\\/t.co\\/5hjjJqxs45\"},{\"NroTweet\":60,\"Tweet\":\"RT @NeonatalAnd: Vulnerability during pregnancy, birth and the postnatal period can be defined by three main attributes: (a) Threat; (b) Ba\\u2026\"},{\"NroTweet\":65,\"Tweet\":\"RT @NeonatalAnd: Morning sickness, also called nausea and vomiting of pregnancy (NVP), is a symptom of pregnancy that involves nausea or vo\\u2026\"},{\"NroTweet\":67,\"Tweet\":\"RT @TIME_research: Important findings from RCT of Metformin in 502 women with type 2 diabetes in pregnancy (MiTy):  Improves maternal gluco\\u2026\"},{\"NroTweet\":83,\"Tweet\":\"RT @PregnancyMag: Combatting pregnancy insomnia - https:\\/\\/t.co\\/dmWbiStjcL https:\\/\\/t.co\\/7FhqIyapsV\"},{\"NroTweet\":85,\"Tweet\":\"RT @NeonatalAnd: Complications of pregnancy are health problems that occur during pregnancy. Some women have health problems that arise dur\\u2026\"},{\"NroTweet\":89,\"Tweet\":\"RT @NeonatalAnd: A breech birth is when a baby is born bottom first instead of head first. Around 3\\u20135% of pregnant women at term (37\\u201340 wee\\u2026\"},{\"NroTweet\":100,\"Tweet\":\"RT @PregnancyMag: Tackling the all too common occurrence of pregnancy loss - https:\\/\\/t.co\\/GILh8ZeRSJ https:\\/\\/t.co\\/Cm542QNnlb\"},{\"NroTweet\":103,\"Tweet\":\"RT @bethangoulden: Obs med summer series: Common causes of DKA in pregnancy:\\n- noncompliance\\n- infection\\n- vomiting\\/hyperemesis\\/starvation\\u2026\"},{\"NroTweet\":106,\"Tweet\":\"For pregnant women diagnosed with uncomplicated #malaria caused by chloroquine-resistant P. #falciparum infection,\\u2026 https:\\/\\/t.co\\/A7hR40I3t0\"},{\"NroTweet\":110,\"Tweet\":\"RT @NeonatalAnd: A high-risk pregnancy is one of greater risk to the mother or her fetus than an uncomplicated pregnancy. Pregnancy places\\u2026\"},{\"NroTweet\":116,\"Tweet\":\"RT @PregnancyMag: Combatting pregnancy insomnia - https:\\/\\/t.co\\/dmWbiStjcL https:\\/\\/t.co\\/7VqubPVCP0\"},{\"NroTweet\":118,\"Tweet\":\"RT @PregnancyMag: 6 things pregnant women don\\u2019t want to hear https:\\/\\/t.co\\/cTlu4v47Ak\"},{\"NroTweet\":123,\"Tweet\":\"#thyroid makes hormones that help your body work. Untreated thyroid conditions during pregnancy are linked to serio\\u2026 https:\\/\\/t.co\\/PAryGePhZV\"},{\"NroTweet\":142,\"Tweet\":\"RT @NeonatalAnd: A pregnancy in which the fertilised egg implants outside the uterus. The fertilised egg can't survive outside the uterus.\\u2026\"},{\"NroTweet\":143,\"Tweet\":\"RT @PregnancyMag: Study: even a little alcohol during pregnancy is harmful https:\\/\\/t.co\\/zpQiRAeCs0\"},{\"NroTweet\":150,\"Tweet\":\"RT @PregnancyMag: Tackling the all too common occurrence of pregnancy loss - https:\\/\\/t.co\\/GILh8ZeRSJ https:\\/\\/t.co\\/XMBRoV8Ep1\"},{\"NroTweet\":151,\"Tweet\":\"RT @PregnancyMag: How to handle rude comments during pregnancy - https:\\/\\/t.co\\/Km54IzFZx6 https:\\/\\/t.co\\/YXlc1ba59l\"},{\"NroTweet\":158,\"Tweet\":\"RT @AJOG_thegray: Aspirin use during pregnancy and the risk of bleeding complications: A Swedish population-based cohort study- https:\\/\\/t.c\\u2026\"},{\"NroTweet\":162,\"Tweet\":\"RT @neonatal_med: Doctor: \\u2018Disparity is quite dramatic\\u2019 in pregnant Latinas with COVID-19\\nfor more details visit: https:\\/\\/t.co\\/yTB0RExRKM h\\u2026\"},{\"NroTweet\":169,\"Tweet\":\"RT @pregnancy_cute: Nutrition for toxicosis: what will help and what will harm\\nAbout 50% of pregnant women experience toxicosis.Toxicosis d\\u2026\"},{\"NroTweet\":173,\"Tweet\":\"RT @PregnancyMag: Is my pregnant belly too big? Too small? Why size *doesn't* matter: https:\\/\\/t.co\\/iGNYLiq2QP https:\\/\\/t.co\\/a49pmsew0d\"},{\"NroTweet\":185,\"Tweet\":\"#Abortion is the ending of a pregnancy by removal or expulsion of an embryo or #fetus. An abortion that occurs with\\u2026 https:\\/\\/t.co\\/v03mOgDzsI\"},{\"NroTweet\":191,\"Tweet\":\"RT @Nishaobgyn: Pregnant &amp; asymptomatic nCoV cases a new concern \\nSending pregnant women in my hometown #Pune &amp; my alma mater #SassoonHospi\\u2026\"},{\"NroTweet\":193,\"Tweet\":\"RT @NeonatalAnd: The Journal focuses on pregnancy, Alpha fetoprotein, Fallopian tubes, Hydrocephalus, High risk pregnancy, Ectopic pregnanc\\u2026\"},{\"NroTweet\":194,\"Tweet\":\"Vulnerability during pregnancy, birth and the postnatal period can be defined by three main attributes: (a) Threat;\\u2026 https:\\/\\/t.co\\/2JAJYhfLsx\"},{\"NroTweet\":196,\"Tweet\":\"Morning sickness, also called nausea and vomiting of pregnancy (NVP), is a symptom of pregnancy that involves nause\\u2026 https:\\/\\/t.co\\/U9yq2nYAn5\"}]\n"
          ],
          "name": "stdout"
        }
      ]
    },
    {
      "cell_type": "code",
      "metadata": {
        "id": "0RQBo1n0ZgAn"
      },
      "source": [
        "# Download the file.\n",
        "from google.colab import files\n",
        "#files.download('df.json')\n"
      ],
      "execution_count": null,
      "outputs": []
    }
  ]
}