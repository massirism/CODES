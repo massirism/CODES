{
  "nbformat": 4,
  "nbformat_minor": 0,
  "metadata": {
    "colab": {
      "name": "RedNeuronal.ipynb",
      "provenance": [],
      "authorship_tag": "ABX9TyN3OLnrcBod3WsOhvQYAUbR",
      "include_colab_link": true
    },
    "kernelspec": {
      "name": "python3",
      "display_name": "Python 3"
    }
  },
  "cells": [
    {
      "cell_type": "markdown",
      "metadata": {
        "id": "view-in-github",
        "colab_type": "text"
      },
      "source": [
        "<a href=\"https://colab.research.google.com/github/massirism/Codes/blob/main/RedNeuronal.ipynb\" target=\"_parent\"><img src=\"https://colab.research.google.com/assets/colab-badge.svg\" alt=\"Open In Colab\"/></a>"
      ]
    },
    {
      "cell_type": "code",
      "metadata": {
        "id": "X1IjZLYZj3Lu"
      },
      "source": [
        "import numpy as np  #Librería para procesamiento númerico\n",
        "import scipy as sc #Expande la librería de NUMPY\n",
        "import matplotlib.pyplot as plt #Para gráficar\n",
        "\n",
        "from sklearn.datasets import make_circles  "
      ],
      "execution_count": null,
      "outputs": []
    },
    {
      "cell_type": "code",
      "metadata": {
        "id": "Hq5nlvkRlBxR",
        "outputId": "788307af-369f-4937-911b-7a8c9a4135a1",
        "colab": {
          "base_uri": "https://localhost:8080/",
          "height": 264
        }
      },
      "source": [
        "#CREAR DATASETS \n",
        "\n",
        "n=500      #Numero de registros de los datos\n",
        "p=2        #Caracteristicas sobre cada uno de los registros de los datos, ej dos caracteristicas de una persona: Altura y edad.\n",
        "\n",
        "X,Y=make_circles(n_samples=n,factor=0.5,noise=0.05) #Factor: distancia entre los dos circulos, noise:\"Ruido\" en los datos \n",
        "\n",
        "plt.scatter( X[Y==0,0] , X[Y==0,1] ,c=\"darkblue\") #Plotear todos los datos de la corrdenada del primer circulo Y=0\n",
        "plt.scatter( X[Y==1,0] , X[Y==1,1] ,c=\"salmon\") #Plotear todos los datos de la corrdenada del primer circulo Y=0\n",
        "plt.axis(\"equal\") #Le da la misma proporción a ambos circulos\n",
        "\n",
        "plt.show()    #Muestra el gráfico"
      ],
      "execution_count": null,
      "outputs": [
        {
          "output_type": "display_data",
          "data": {
            "image/png": "[encoded data removed]",
            "text/plain": [
              "<Figure size 432x288 with 1 Axes>"
            ]
          },
          "metadata": {
            "tags": []
          }
        }
      ]
    },
    {
      "cell_type": "code",
      "metadata": {
        "id": "xp1Ahp5GpmRB"
      },
      "source": [
        "#Clase de la capa de la red\n",
        "class neural_layer():\n",
        "  def __init__( self, n_conn, n_neur, act_f):\n",
        "    self.act_f=act_f\n",
        "    self.b=np.random.rand(1,n_neur)*  2-1\n",
        "    self.w=np.random.rand(n_conn,n_neur)*  2-1"
      ],
      "execution_count": null,
      "outputs": []
    },
    {
      "cell_type": "code",
      "metadata": {
        "id": "GF52kEUkqrlJ",
        "outputId": "d4110835-5572-4c12-de94-374060a53ebf",
        "colab": {
          "base_uri": "https://localhost:8080/",
          "height": 282
        }
      },
      "source": [
        "#Funciones de activación\n",
        "sigm= (lambda x:1/(1+np.e**(-x)), \n",
        "       lambda x:x*(1-x)\n",
        "      )\n",
        "relu= lambda x:np.maximum(0,x)\n",
        "\n",
        "_x=np.linspace(-5,5,100)\n",
        "plt.plot(_x,sigm[0](_x))"
      ],
      "execution_count": null,
      "outputs": [
        {
          "output_type": "execute_result",
          "data": {
            "text/plain": [
              "[<matplotlib.lines.Line2D at 0x7fb2f90159e8>]"
            ]
          },
          "metadata": {
            "tags": []
          },
          "execution_count": 21
        },
        {
          "output_type": "display_data",
          "data": {
            "image/png": "[encoded data removed]",
            "text/plain": [
              "<Figure size 432x288 with 1 Axes>"
            ]
          },
          "metadata": {
            "tags": []
          }
        }
      ]
    },
    {
      "cell_type": "code",
      "metadata": {
        "id": "41a1Sisss2f_",
        "outputId": "6c7d338b-6bb2-4efe-b6a8-972444c512c6",
        "colab": {
          "base_uri": "https://localhost:8080/",
          "height": 123
        }
      },
      "source": [
        "#Estructura para la red neuronal\n",
        "def create_nn(topology,act_f):\n",
        "  nn = []\n",
        "  for i,layer in enumerate(topology[:-1]):\n",
        "    nn.append(neural_layer(topology[i],topology[i+1],act_f))\n",
        "  return nn\n"
      ],
      "execution_count": null,
      "outputs": [
        {
          "output_type": "execute_result",
          "data": {
            "text/plain": [
              "[<__main__.neural_layer at 0x7fb2f8f2cc88>,\n",
              " <__main__.neural_layer at 0x7fb2f8f2ccc0>,\n",
              " <__main__.neural_layer at 0x7fb2f8f2ccf8>,\n",
              " <__main__.neural_layer at 0x7fb2f8f2cda0>,\n",
              " <__main__.neural_layer at 0x7fb2f8f2cdd8>,\n",
              " <__main__.neural_layer at 0x7fb2f8f2ce10>]"
            ]
          },
          "metadata": {
            "tags": []
          },
          "execution_count": 28
        }
      ]
    },
    {
      "cell_type": "code",
      "metadata": {
        "id": "1PdpuSPvvbTX",
        "outputId": "7a2639cf-1c79-46f8-b156-2e8baf76d44f",
        "colab": {
          "base_uri": "https://localhost:8080/",
          "height": 141
        }
      },
      "source": [
        "#Código para entrenar a la red neuronal\n",
        "topology=[p,4,8,16,8,4,1]\n",
        "\n",
        "RedNeuro= create_nn(topology,sigm)\n",
        "\n",
        "l2_cost = (lambda Yp,Yr: (Yp-Yr)**2 ,\n",
        "           lambda Yp,Yr: (Yp-Yr))\n",
        "\n",
        "\n",
        "def train(RedNeuro, X, Y, l2_cost, lr=0.5):\n",
        "\n",
        "  out=[(None, X)]\n",
        "\n",
        "  #Forwar pass\n",
        "  for k,layer in enumerate(RedNeuro):\n",
        "    z=  out[-1][1] @RedNeuro[k].w + RedNeuro[k].b\n",
        "    a= RedNeuro[k].act_f[0](z)\n",
        "    out.append((z,a))\n",
        "\n",
        "  print(l2_cost[0](out[-1][1], Y))\n",
        "\n",
        "train(RedNeuro, X, Y, l2_cost, 0.5)\n",
        "  \n"
      ],
      "execution_count": null,
      "outputs": [
        {
          "output_type": "stream",
          "text": [
            "[[0.7755085  0.7755085  0.01424929 ... 0.7755085  0.01424929 0.7755085 ]\n",
            " [0.77551659 0.77551659 0.01424819 ... 0.77551659 0.01424819 0.77551659]\n",
            " [0.77554532 0.77554532 0.0142443  ... 0.77554532 0.0142443  0.77554532]\n",
            " ...\n",
            " [0.77548491 0.77548491 0.01425249 ... 0.77548491 0.01425249 0.77548491]\n",
            " [0.7755112  0.7755112  0.01424892 ... 0.7755112  0.01424892 0.7755112 ]\n",
            " [0.7755126  0.7755126  0.01424874 ... 0.7755126  0.01424874 0.7755126 ]]\n"
          ],
          "name": "stdout"
        }
      ]
    }
  ]
}